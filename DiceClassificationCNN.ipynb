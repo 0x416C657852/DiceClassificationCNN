{
  "nbformat": 4,
  "nbformat_minor": 0,
  "metadata": {
    "colab": {
      "name": "DeepLearningProject.ipynb",
      "provenance": [],
      "include_colab_link": true
    },
    "kernelspec": {
      "name": "python3",
      "display_name": "Python 3"
    },
    "language_info": {
      "name": "python"
    }
  },
  "cells": [
    {
      "cell_type": "markdown",
      "metadata": {
        "id": "view-in-github",
        "colab_type": "text"
      },
      "source": [
        "<a href=\"https://colab.research.google.com/github/0x416C657852/DiceClassificationCNN/blob/main/DeepLearningProject.ipynb\" target=\"_parent\"><img src=\"https://colab.research.google.com/assets/colab-badge.svg\" alt=\"Open In Colab\"/></a>"
      ]
    },
    {
      "cell_type": "code",
      "metadata": {
        "id": "_Kw4MnjnXNpX"
      },
      "source": [
        "\n",
        "\n",
        "%matplotlib inline\n",
        "\n",
        "import glob\n",
        "import os\n",
        "import cv2\n",
        "import numpy as np\n",
        "import tqdm\n",
        "import matplotlib.pyplot as plt"
      ],
      "execution_count": null,
      "outputs": []
    },
    {
      "cell_type": "code",
      "metadata": {
        "id": "GB0fd_dIC6mN",
        "colab": {
          "base_uri": "https://localhost:8080/"
        },
        "outputId": "94b3384c-9157-4965-913a-265f979738e5"
      },
      "source": [
        "from google.colab import drive\n",
        "drive.mount('/content/drive')"
      ],
      "execution_count": null,
      "outputs": [
        {
          "output_type": "stream",
          "text": [
            "Mounted at /content/drive\n"
          ],
          "name": "stdout"
        }
      ]
    },
    {
      "cell_type": "code",
      "metadata": {
        "colab": {
          "base_uri": "https://localhost:8080/"
        },
        "id": "40wikHaUYKVZ",
        "outputId": "ab35e003-469f-477e-c3a1-57f9242b7a59"
      },
      "source": [
        "train_files = glob.glob('/content/drive/MyDrive/dice/train/*/*')\n",
        "len(train_files)"
      ],
      "execution_count": null,
      "outputs": [
        {
          "output_type": "execute_result",
          "data": {
            "text/plain": [
              "14312"
            ]
          },
          "metadata": {
            "tags": []
          },
          "execution_count": 3
        }
      ]
    },
    {
      "cell_type": "code",
      "metadata": {
        "id": "if7Zb1hPYaC7",
        "colab": {
          "base_uri": "https://localhost:8080/"
        },
        "outputId": "e426b411-9739-4d68-8c1f-6255291ca11d"
      },
      "source": [
        "test_files = glob.glob('/content/drive/MyDrive/dice/valid/*/*')\n",
        "len(test_files)"
      ],
      "execution_count": null,
      "outputs": [
        {
          "output_type": "execute_result",
          "data": {
            "text/plain": [
              "2122"
            ]
          },
          "metadata": {
            "tags": []
          },
          "execution_count": 4
        }
      ]
    },
    {
      "cell_type": "code",
      "metadata": {
        "id": "yu8WCh2WknJf"
      },
      "source": [
        "DIMS = (196, 196, 3)\n",
        "\n",
        "def read_image(path):\n",
        "    label = os.path.basename(os.path.dirname(path))\n",
        "    \n",
        "    image = cv2.imread(path)\n",
        "    image = cv2.resize(image, (DIMS[:2]))\n",
        "    \n",
        "    return image / 255.0\n",
        "\n",
        "def randomize_dataset(X, labels):\n",
        "    # randomize dataset\n",
        "    ids = list(range(len(X)))\n",
        "    np.random.shuffle(ids)\n",
        "    \n",
        "    for (i, j) in enumerate(ids):\n",
        "        X[i], X[j] = X[j], X[i]\n",
        "        labels[i], labels[j] = labels[j], labels[i]\n",
        "        \n",
        "    return (X, labels)\n",
        "        \n",
        "def read_dataset(train_files):\n",
        "    dataset = []\n",
        "    \n",
        "    X = np.zeros((len(train_files), *DIMS), dtype=np.float32)\n",
        "        \n",
        "    for (i, file) in tqdm.tqdm_notebook(enumerate(train_files)):\n",
        "        image = read_image(file)\n",
        "        X[i]  = image\n",
        "    \n",
        "    labels = [os.path.basename(os.path.dirname(path)) for path in train_files]\n",
        "    X, labels = randomize_dataset(X, labels)\n",
        "    \n",
        "    classes  = set([label for label in labels])\n",
        "    id2class = dict([(i, c) for (i, c) in enumerate(classes)])\n",
        "    class2id = dict([(c, i) for (i, c) in enumerate(classes)])\n",
        "    \n",
        "    Y = np.zeros((len(train_files), len(classes)), dtype=np.bool)\n",
        "    \n",
        "    for (i, clazz) in enumerate(labels):\n",
        "        Y[i, class2id[clazz]] = 1\n",
        "        \n",
        "    return (X, Y, classes, id2class, class2id)"
      ],
      "execution_count": null,
      "outputs": []
    }
  ]
}
